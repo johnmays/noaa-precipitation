{
 "cells": [
  {
   "cell_type": "markdown",
   "metadata": {},
   "source": [
    "# Comparing rainy weather across cities in the continental U.S.A.\n",
    "##### Author: John Mays\n",
    "## Setup:"
   ]
  },
  {
   "cell_type": "code",
   "execution_count": 1,
   "metadata": {},
   "outputs": [],
   "source": [
    "import pandas as pd\n",
    "import geopandas as gpd\n",
    "import matplotlib.pyplot as plt\n",
    "# the code from this notebook has been moved to this .py file:\n",
    "import city_comparison_helpers as cch\n",
    "import schema"
   ]
  },
  {
   "cell_type": "markdown",
   "metadata": {},
   "source": [
    "The question here is, what cities should I consider?  The more cities I consider, the more data I'd have to download.  If I downloaded the **GSOY** CSV for every one of the 83,000 or so weather stations that are listed, I'd have to download ~16GB of CSVs (a rough and likely low estimate).  If I wanted to bring in some big data technologies, I could do it, but I don't. So, should I...\n",
    "- get a list of cities commonly considered rainy and find one weather station per city?\n",
    "- get one weather station for every \"big\" city in the U.S.\n",
    "- get all of the weather stations in a few states?\n",
    "\n",
    "Although it's not perfect, I will likely go with the first option"
   ]
  },
  {
   "cell_type": "markdown",
   "metadata": {},
   "source": [
    "##### What cities did I land on?\n",
    "- I looked for weather stations near both small towns and big cities commonly considered rainy.  So that means bigger cities like C"
   ]
  },
  {
   "cell_type": "code",
   "execution_count": 2,
   "metadata": {},
   "outputs": [
    {
     "data": {
      "text/html": [
       "<div>\n",
       "<style scoped>\n",
       "    .dataframe tbody tr th:only-of-type {\n",
       "        vertical-align: middle;\n",
       "    }\n",
       "\n",
       "    .dataframe tbody tr th {\n",
       "        vertical-align: top;\n",
       "    }\n",
       "\n",
       "    .dataframe thead th {\n",
       "        text-align: right;\n",
       "    }\n",
       "</style>\n",
       "<table border=\"1\" class=\"dataframe\">\n",
       "  <thead>\n",
       "    <tr style=\"text-align: right;\">\n",
       "      <th></th>\n",
       "      <th>City</th>\n",
       "      <th>State</th>\n",
       "      <th>Station</th>\n",
       "      <th>Size</th>\n",
       "    </tr>\n",
       "  </thead>\n",
       "  <tbody>\n",
       "    <tr>\n",
       "      <th>0</th>\n",
       "      <td>Seattle</td>\n",
       "      <td>WA</td>\n",
       "      <td>USW00094290</td>\n",
       "      <td>City</td>\n",
       "    </tr>\n",
       "    <tr>\n",
       "      <th>1</th>\n",
       "      <td>Miami</td>\n",
       "      <td>FL</td>\n",
       "      <td>USW00012839</td>\n",
       "      <td>City</td>\n",
       "    </tr>\n",
       "    <tr>\n",
       "      <th>2</th>\n",
       "      <td>New York City</td>\n",
       "      <td>NY</td>\n",
       "      <td>USW00094728</td>\n",
       "      <td>City</td>\n",
       "    </tr>\n",
       "    <tr>\n",
       "      <th>3</th>\n",
       "      <td>White Plains</td>\n",
       "      <td>NY</td>\n",
       "      <td>USW00094745</td>\n",
       "      <td>City</td>\n",
       "    </tr>\n",
       "    <tr>\n",
       "      <th>4</th>\n",
       "      <td>Brookhaven</td>\n",
       "      <td>NY</td>\n",
       "      <td>USW00054790</td>\n",
       "      <td>Town</td>\n",
       "    </tr>\n",
       "  </tbody>\n",
       "</table>\n",
       "</div>"
      ],
      "text/plain": [
       "            City State      Station  Size\n",
       "0        Seattle    WA  USW00094290  City\n",
       "1          Miami    FL  USW00012839  City\n",
       "2  New York City    NY  USW00094728  City\n",
       "3   White Plains    NY  USW00094745  City\n",
       "4     Brookhaven    NY  USW00054790  Town"
      ]
     },
     "execution_count": 2,
     "metadata": {},
     "output_type": "execute_result"
    }
   ],
   "source": [
    "schema.city_schema.head()"
   ]
  },
  {
   "cell_type": "code",
   "execution_count": 3,
   "metadata": {},
   "outputs": [
    {
     "data": {
      "text/html": [
       "<div>\n",
       "<style scoped>\n",
       "    .dataframe tbody tr th:only-of-type {\n",
       "        vertical-align: middle;\n",
       "    }\n",
       "\n",
       "    .dataframe tbody tr th {\n",
       "        vertical-align: top;\n",
       "    }\n",
       "\n",
       "    .dataframe thead th {\n",
       "        text-align: right;\n",
       "    }\n",
       "</style>\n",
       "<table border=\"1\" class=\"dataframe\">\n",
       "  <thead>\n",
       "    <tr style=\"text-align: right;\">\n",
       "      <th></th>\n",
       "      <th>Description</th>\n",
       "    </tr>\n",
       "    <tr>\n",
       "      <th>Column</th>\n",
       "      <th></th>\n",
       "    </tr>\n",
       "  </thead>\n",
       "  <tbody>\n",
       "    <tr>\n",
       "      <th>DATE</th>\n",
       "      <td>year AD</td>\n",
       "    </tr>\n",
       "    <tr>\n",
       "      <th>PRCP</th>\n",
       "      <td>total annual precipitation in inches</td>\n",
       "    </tr>\n",
       "    <tr>\n",
       "      <th>SNOW</th>\n",
       "      <td>total annual snowfall in inches</td>\n",
       "    </tr>\n",
       "    <tr>\n",
       "      <th>DYFG</th>\n",
       "      <td>number of days with fog</td>\n",
       "    </tr>\n",
       "    <tr>\n",
       "      <th>DYHF</th>\n",
       "      <td>number of days with 'heavy' fog</td>\n",
       "    </tr>\n",
       "    <tr>\n",
       "      <th>DYTS</th>\n",
       "      <td>number of days with thunderstorms</td>\n",
       "    </tr>\n",
       "    <tr>\n",
       "      <th>EMXP</th>\n",
       "      <td>highest daily total of precipitation in inches</td>\n",
       "    </tr>\n",
       "    <tr>\n",
       "      <th>DP01</th>\n",
       "      <td>number of days with over 0.01 inches of unspec...</td>\n",
       "    </tr>\n",
       "    <tr>\n",
       "      <th>DP10</th>\n",
       "      <td>number of days with over 0.10 inches of unspec...</td>\n",
       "    </tr>\n",
       "    <tr>\n",
       "      <th>DP1X</th>\n",
       "      <td>number of days with over 1.00 inches of unspec...</td>\n",
       "    </tr>\n",
       "    <tr>\n",
       "      <th>DSNW</th>\n",
       "      <td>number of days with over 1.00 inches of snowfall</td>\n",
       "    </tr>\n",
       "  </tbody>\n",
       "</table>\n",
       "</div>"
      ],
      "text/plain": [
       "                                              Description\n",
       "Column                                                   \n",
       "DATE                                              year AD\n",
       "PRCP                 total annual precipitation in inches\n",
       "SNOW                      total annual snowfall in inches\n",
       "DYFG                              number of days with fog\n",
       "DYHF                      number of days with 'heavy' fog\n",
       "DYTS                    number of days with thunderstorms\n",
       "EMXP       highest daily total of precipitation in inches\n",
       "DP01    number of days with over 0.01 inches of unspec...\n",
       "DP10    number of days with over 0.10 inches of unspec...\n",
       "DP1X    number of days with over 1.00 inches of unspec...\n",
       "DSNW     number of days with over 1.00 inches of snowfall"
      ]
     },
     "execution_count": 3,
     "metadata": {},
     "output_type": "execute_result"
    }
   ],
   "source": [
    "schema.partial_GSOY_schema\n",
    "# cch.partial_schema.loc[\"DYHF\"]"
   ]
  },
  {
   "cell_type": "code",
   "execution_count": 4,
   "metadata": {},
   "outputs": [],
   "source": [
    "# range of years I'm looking at:\n",
    "rng = (2011, 2021) # (inclusive)"
   ]
  },
  {
   "cell_type": "code",
   "execution_count": 5,
   "metadata": {},
   "outputs": [
    {
     "name": "stdout",
     "output_type": "stream",
     "text": [
      "There are no missing years in the data.\n"
     ]
    }
   ],
   "source": [
    "cch.check_years(schema.city_schema, rng=rng)"
   ]
  },
  {
   "cell_type": "code",
   "execution_count": 6,
   "metadata": {},
   "outputs": [],
   "source": [
    "columns = list(schema.partial_GSOY_schema.index.to_series())"
   ]
  },
  {
   "cell_type": "code",
   "execution_count": 7,
   "metadata": {},
   "outputs": [],
   "source": [
    "cities = cch.total_concat(schema.city_schema, columns, rng=rng)"
   ]
  },
  {
   "cell_type": "markdown",
   "metadata": {},
   "source": [
    "## Looking at statistics:\n",
    "### Adding a few columns:"
   ]
  },
  {
   "cell_type": "code",
   "execution_count": 26,
   "metadata": {},
   "outputs": [],
   "source": [
    "cities[\"SNPR\"] = cities[\"SNOW\"].fillna(0.0) \\\n",
    "+ cities[\"PRCP\"]"
   ]
  },
  {
   "cell_type": "markdown",
   "metadata": {},
   "source": [
    "### Finding mean and median over an 11 year time period (2012-2022)"
   ]
  },
  {
   "cell_type": "code",
   "execution_count": 27,
   "metadata": {},
   "outputs": [],
   "source": [
    "grouped_median = cities.groupby('CITY').median()\n",
    "grouped_mean = cities.groupby('CITY').mean()"
   ]
  },
  {
   "cell_type": "markdown",
   "metadata": {},
   "source": [
    "### Looking at some ranked lists and numbers:"
   ]
  },
  {
   "cell_type": "markdown",
   "metadata": {},
   "source": [
    "#### Two ways of measuring precipitation\n",
    "1. Annual rainfall sum\n",
    "2. number of days with (any amount of) rain per year"
   ]
  },
  {
   "cell_type": "code",
   "execution_count": 9,
   "metadata": {},
   "outputs": [
    {
     "name": "stdout",
     "output_type": "stream",
     "text": [
      "Rainfal per year (mm)     | Number of days with any rainfall\n",
      "CITY                      | CITY\n",
      "Annette           3826.20 | Annette           237.0\n",
      "Forks             3090.30 | Forks             231.0\n",
      "Quillayute        2727.50 | Quillayute        200.0\n",
      "Aberdeen          2310.50 | Astoria           199.0\n",
      "Astoria           1851.90 | Aberdeen          195.0\n",
      "Hoquiam           1829.80 | Hoquiam           185.0\n",
      "New Orleans       1734.50 | Rochester         179.5\n",
      "Miami             1676.00 | Syracuse          177.0\n",
      "Port Arthur       1669.20 | Seattle           176.0\n",
      "West Palm         1502.70 | Erie              175.0\n",
      "Norton            1405.80 | Buffalo           167.0\n",
      "Houston           1293.00 | Presque Isle      163.0\n",
      "Woods Hole        1199.90 | Cleveland         163.0\n",
      "New York City     1177.30 | Brassau Dam       162.0\n",
      "Lake Jackson      1172.20 | Norton            162.0\n",
      "Cincinnati        1166.30 | Portland          157.0\n",
      "Pittsburgh        1122.70 | Pittsburgh        157.0\n",
      "Chicago           1120.30 | Sequim            149.0\n",
      "Columbus          1117.30 | Miami             146.0\n",
      "Portland          1115.40 | Conneaut          145.0\n",
      "Cleveland         1114.20 | Woods Hole        143.0\n",
      "Boston            1104.60 | Dunkirk           142.0\n",
      "Brassau Dam       1096.40 | Columbus          141.0\n",
      "Brookhaven        1083.80 | West Palm         140.0\n",
      "Erie              1074.20 | Detroit           138.0\n",
      "Madison           1072.40 | Cincinnati        133.0\n",
      "White Plains      1066.05 | White Plains      130.5\n",
      "Syracuse          1064.30 | Boston            129.0\n",
      "Buffalo           1058.90 | Chicago           128.0\n",
      "Presque Isle      1056.40 | New York City     127.0\n",
      "Detroit           1020.80 | Brookhaven        126.0\n",
      "Seattle           1017.30 | Madison           122.0\n",
      "West Lafayette     972.20 | New Orleans       119.0\n",
      "Rochester          969.55 | West Lafayette    118.0\n",
      "Conneaut           798.40 | Port Arthur       113.0\n",
      "Dunkirk            762.10 | Lake Jackson      109.0\n",
      "Driggs             625.70 | Houston           108.0\n",
      "San Francisco      577.10 | Spokane           107.0\n",
      "Sequim             474.00 | Driggs             93.0\n",
      "Monterey           404.40 | San Francisco      71.0\n",
      "Spokane            392.50 | Richland           71.0\n",
      "Richland           162.60 | Monterey           65.0\n"
     ]
    }
   ],
   "source": [
    "cch.series_comparison(grouped_median[\"PRCP\"].sort_values(ascending=False),\n",
    "                  grouped_median[\"DP01\"].sort_values(ascending=False),\n",
    "                  titles = [\"Rainfal per year (mm)\", \"Number of days with any rainfall\"])"
   ]
  },
  {
   "cell_type": "markdown",
   "metadata": {},
   "source": [
    "#### Two ways of measuring snow\n",
    "1. Annual snowfall sum\n",
    "2. number of days with (any amount of) snow per year"
   ]
  },
  {
   "cell_type": "code",
   "execution_count": 10,
   "metadata": {},
   "outputs": [
    {
     "name": "stdout",
     "output_type": "stream",
     "text": [
      "Snowfall per year (mm)   | Number of days with any snowfall\n",
      "CITY                     | CITY\n",
      "Presque Isle      3161.0 | Driggs            42.0\n",
      "Driggs            3145.0 | Syracuse          32.0\n",
      "Syracuse          2840.0 | Presque Isle      31.0\n",
      "Brassau Dam       2594.0 | Brassau Dam       27.0\n",
      "Erie              2303.0 | Buffalo           25.0\n",
      "Rochester         2266.0 | Erie              24.0\n",
      "Buffalo           2088.0 | Rochester         23.5\n",
      "Boston            1275.0 | Cleveland         17.0\n",
      "Cleveland         1177.0 | Madison           14.0\n",
      "Chicago           1072.5 | Spokane           14.0\n",
      "Spokane            989.0 | Chicago           13.0\n",
      "Detroit            980.0 | Detroit           12.0\n",
      "Madison            956.0 | Boston            11.0\n",
      "Norton             886.0 | Norton            10.5\n",
      "New York City      880.0 | Columbus           9.0\n",
      "Columbus           643.0 | West Lafayette     7.0\n",
      "West Lafayette     489.0 | New York City      7.0\n",
      "Woods Hole         429.5 | Woods Hole         6.0\n",
      "Portland           136.0 | Portland           2.0\n",
      "Richland           117.0 | Richland           1.0\n",
      "Seattle             64.0 | Seattle            1.0\n",
      "Lake Jackson         0.0 | Lake Jackson       0.0\n",
      "Houston              0.0 | Houston            0.0\n",
      "Monterey             0.0 | Monterey           0.0\n",
      "Aberdeen             NaN | Aberdeen           NaN\n",
      "Annette              NaN | Annette            NaN\n",
      "Astoria              NaN | Astoria            NaN\n",
      "Brookhaven           NaN | Brookhaven         NaN\n",
      "Cincinnati           NaN | Cincinnati         NaN\n",
      "Conneaut             NaN | Conneaut           NaN\n",
      "Dunkirk              NaN | Dunkirk            NaN\n",
      "Forks                NaN | Forks              NaN\n",
      "Hoquiam              NaN | Hoquiam            NaN\n",
      "Miami                NaN | Miami              NaN\n",
      "New Orleans          NaN | New Orleans        NaN\n",
      "Pittsburgh           NaN | Pittsburgh         NaN\n",
      "Port Arthur          NaN | Port Arthur        NaN\n",
      "Quillayute           NaN | Quillayute         NaN\n",
      "San Francisco        NaN | San Francisco      NaN\n",
      "Sequim               NaN | Sequim             NaN\n",
      "West Palm            NaN | West Palm          NaN\n",
      "White Plains         NaN | White Plains       NaN\n"
     ]
    }
   ],
   "source": [
    "cch.series_comparison(grouped_median[\"SNOW\"].sort_values(ascending=False),\n",
    "                  grouped_median[\"DSNW\"].sort_values(ascending=False),\n",
    "                  titles = [\"Snowfall per year (mm)\", \"Number of days with any snowfall\"])"
   ]
  },
  {
   "cell_type": "markdown",
   "metadata": {},
   "source": [
    "#### Total mm of Precipitation (snow & everything else):"
   ]
  },
  {
   "cell_type": "code",
   "execution_count": 28,
   "metadata": {},
   "outputs": [
    {
     "data": {
      "text/plain": [
       "CITY\n",
       "Presque Isle      4278.70\n",
       "Syracuse          4008.80\n",
       "Driggs            3840.00\n",
       "Annette           3826.20\n",
       "Brassau Dam       3543.80\n",
       "Erie              3464.20\n",
       "Rochester         3154.25\n",
       "Buffalo           3090.70\n",
       "Forks             3090.30\n",
       "Quillayute        2727.50\n",
       "Boston            2398.60\n",
       "Cleveland         2311.10\n",
       "Aberdeen          2310.50\n",
       "Chicago           2218.80\n",
       "Norton            2060.40\n",
       "New York City     2024.70\n",
       "Detroit           1990.80\n",
       "Columbus          1882.30\n",
       "Astoria           1851.90\n",
       "Hoquiam           1829.80\n",
       "New Orleans       1734.50\n",
       "Miami             1676.00\n",
       "Port Arthur       1669.20\n",
       "West Palm         1502.70\n",
       "West Lafayette    1419.70\n",
       "Spokane           1346.90\n",
       "Houston           1318.00\n",
       "Woods Hole        1268.40\n",
       "Seattle           1180.10\n",
       "Lake Jackson      1172.20\n",
       "Cincinnati        1166.30\n",
       "Portland          1165.10\n",
       "Madison           1156.50\n",
       "Pittsburgh        1122.70\n",
       "Brookhaven        1083.80\n",
       "White Plains      1066.05\n",
       "Conneaut           798.40\n",
       "Dunkirk            762.10\n",
       "San Francisco      577.10\n",
       "Sequim             474.00\n",
       "Monterey           404.40\n",
       "Richland           168.30\n",
       "Name: SNPR, dtype: float64"
      ]
     },
     "execution_count": 28,
     "metadata": {},
     "output_type": "execute_result"
    }
   ],
   "source": [
    "# grouped_median[\"SNPR\"] = grouped_median[\"SNOW\"].fillna(0.0) \\\n",
    "# + grouped_median[\"PRCP\"]\n",
    "# grouped_mean[\"SNPR\"] = grouped_mean[\"SNOW\"].fillna(0.0) \\\n",
    "# + grouped_mean[\"PRCP\"]\n",
    "grouped_median[\"SNPR\"].sort_values(ascending=False)"
   ]
  },
  {
   "cell_type": "markdown",
   "metadata": {},
   "source": [
    "#### Fog compared to Rain (median of `DYFG` & `DPO1`)"
   ]
  },
  {
   "cell_type": "code",
   "execution_count": 11,
   "metadata": {},
   "outputs": [
    {
     "name": "stdout",
     "output_type": "stream",
     "text": [
      "Median number of foggy days | Median number of rainy days\n",
      "CITY                        | CITY\n",
      "Hoquiam           286.0     | Annette           237.0\n",
      "Quillayute        270.0     | Forks             231.0\n",
      "Cincinnati        245.0     | Quillayute        200.0\n",
      "Astoria           240.0     | Astoria           199.0\n",
      "Lake Jackson      232.0     | Aberdeen          195.0\n",
      "Annette           222.0     | Hoquiam           185.0\n",
      "Port Arthur       213.0     | Rochester         179.5\n",
      "Monterey          180.0     | Syracuse          177.0\n",
      "Columbus          176.0     | Seattle           176.0\n",
      "Presque Isle      171.0     | Erie              175.0\n",
      "Syracuse          168.0     | Buffalo           167.0\n",
      "New Orleans       161.0     | Presque Isle      163.0\n",
      "Houston           157.0     | Cleveland         163.0\n",
      "Cleveland         156.0     | Brassau Dam       162.0\n",
      "Buffalo           156.0     | Norton            162.0\n",
      "Erie              146.0     | Portland          157.0\n",
      "New York City     142.0     | Pittsburgh        157.0\n",
      "Boston            131.0     | Sequim            149.0\n",
      "Spokane           121.0     | Miami             146.0\n",
      "Chicago           102.0     | Conneaut          145.0\n",
      "Miami              99.0     | Woods Hole        143.0\n",
      "West Palm          97.0     | Dunkirk           142.0\n",
      "Rochester          83.0     | Columbus          141.0\n",
      "Richland           82.0     | West Palm         140.0\n",
      "White Plains       71.0     | Detroit           138.0\n",
      "Seattle            59.0     | Cincinnati        133.0\n",
      "Conneaut           44.0     | White Plains      130.5\n",
      "Pittsburgh         30.0     | Boston            129.0\n",
      "Dunkirk            21.0     | Chicago           128.0\n",
      "Brookhaven         20.5     | New York City     127.0\n",
      "Forks              18.0     | Brookhaven        126.0\n",
      "Norton              5.0     | Madison           122.0\n",
      "Madison             4.0     | New Orleans       119.0\n",
      "Brassau Dam         3.5     | West Lafayette    118.0\n",
      "West Lafayette      2.0     | Port Arthur       113.0\n",
      "Driggs              1.0     | Lake Jackson      109.0\n",
      "Aberdeen            NaN     | Houston           108.0\n",
      "Detroit             NaN     | Spokane           107.0\n",
      "Portland            NaN     | Driggs             93.0\n",
      "San Francisco       NaN     | San Francisco      71.0\n",
      "Sequim              NaN     | Richland           71.0\n",
      "Woods Hole          NaN     | Monterey           65.0\n"
     ]
    }
   ],
   "source": [
    "cch.series_comparison(grouped_median[\"DYFG\"].sort_values(ascending=False),\n",
    "                  grouped_median[\"DP01\"].sort_values(ascending=False),\n",
    "                  titles = [\"Median number of foggy days\", \"Median number of rainy days\"])"
   ]
  },
  {
   "cell_type": "markdown",
   "metadata": {},
   "source": [
    "#### Days with thunderstorms:"
   ]
  },
  {
   "cell_type": "code",
   "execution_count": 15,
   "metadata": {},
   "outputs": [
    {
     "data": {
      "text/plain": [
       "CITY\n",
       "West Palm         89.727273\n",
       "New Orleans       80.363636\n",
       "Miami             78.090909\n",
       "Lake Jackson      67.000000\n",
       "Port Arthur       64.272727\n",
       "Houston           58.363636\n",
       "Chicago           44.636364\n",
       "Norton            41.000000\n",
       "Columbus          39.909091\n",
       "Cleveland         37.272727\n",
       "Cincinnati        32.750000\n",
       "Buffalo           28.181818\n",
       "New York City     28.000000\n",
       "Rochester         26.545455\n",
       "Erie              26.000000\n",
       "Syracuse          24.090909\n",
       "White Plains      17.111111\n",
       "Presque Isle      16.200000\n",
       "Boston            15.909091\n",
       "Dunkirk           13.500000\n",
       "Pittsburgh        13.125000\n",
       "Spokane           12.909091\n",
       "Conneaut          12.800000\n",
       "Astoria            7.500000\n",
       "Quillayute         7.222222\n",
       "Richland           6.818182\n",
       "Brassau Dam        6.750000\n",
       "Forks              5.363636\n",
       "Hoquiam            5.000000\n",
       "Seattle            4.700000\n",
       "Brookhaven         3.333333\n",
       "Monterey           2.500000\n",
       "Annette            2.000000\n",
       "West Lafayette     1.400000\n",
       "Aberdeen                NaN\n",
       "Detroit                 NaN\n",
       "Driggs                  NaN\n",
       "Madison                 NaN\n",
       "Portland                NaN\n",
       "San Francisco           NaN\n",
       "Sequim                  NaN\n",
       "Woods Hole              NaN\n",
       "Name: DYTS, dtype: float64"
      ]
     },
     "execution_count": 15,
     "metadata": {},
     "output_type": "execute_result"
    }
   ],
   "source": [
    "grouped_mean[\"DYTS\"].sort_values(ascending=False)"
   ]
  },
  {
   "cell_type": "markdown",
   "metadata": {},
   "source": [
    "- Apparently in the South, when it rains, it storms. Not so much in the North.\n",
    "- The underlying relationship, it seems, is that the cities with the most thunderstorms are closest to the Gulf of Mexico\n",
    "- On the other side of that, cities on the West Coast have very few."
   ]
  },
  {
   "cell_type": "markdown",
   "metadata": {},
   "source": [
    "# Issues\n",
    "- **Weather station may not be representative of entire city:** Especially with measurements like days with fog, which is a spotty phenomenon, you could be living somewhere around a city, but just not close enough to the weather station to see what they report.  For example, in Cleveland, if you live a few miles from Lake Erie, you will be much less likely to see fog than the weather station close to Lake Erie.  \n",
    "- Also, in an ideal world, I would attempt to take measurements from several weather stations and aggregate them somehow to be more representative of a general area.  Although, since there are quite a few small towns with relatively sparse data available, I'm not so sure that would be smart.\n",
    "- **Sample size:** I am only sampling 2011-2021 here, 11 years.  I wish I could sample back into the 70's or so, but there are too many fragmented datasets to pick a larger range, so 11 years of data will have to do.  If I am curious about comparing a few cities furthere, I may use Global Summary of the Month (**GSOM**) data to look further.\n",
    "- **You may be tempted to say a city on here is \"high\" or \"low\" compared to others,** however, this dataset was hand-selected and is skewed towards notoriously rainy places, so it wouldn't really be honest to say \"Lafayette gets low rain\" because it is only being compared to the upper echelon of rainy places in the USA."
   ]
  }
 ],
 "metadata": {
  "kernelspec": {
   "display_name": "venv",
   "language": "python",
   "name": "python3"
  },
  "language_info": {
   "codemirror_mode": {
    "name": "ipython",
    "version": 3
   },
   "file_extension": ".py",
   "mimetype": "text/x-python",
   "name": "python",
   "nbconvert_exporter": "python",
   "pygments_lexer": "ipython3",
   "version": "3.8.9"
  }
 },
 "nbformat": 4,
 "nbformat_minor": 2
}

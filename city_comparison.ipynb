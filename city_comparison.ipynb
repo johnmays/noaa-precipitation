{
 "cells": [
  {
   "cell_type": "markdown",
   "metadata": {},
   "source": [
    "# Comparing rainfall across cities in the continental U.S.A.\n",
    "##### Author: John Mays"
   ]
  },
  {
   "cell_type": "code",
   "execution_count": 1,
   "metadata": {},
   "outputs": [],
   "source": [
    "import pandas as pd\n",
    "import matplotlib.pyplot as plt\n",
    "# the code from this notebook has been moved to this .py file:\n",
    "from city_comparison_helpers import *"
   ]
  },
  {
   "cell_type": "markdown",
   "metadata": {},
   "source": [
    "The question here is, what cities should I consider?  The more cities I consider, the more data I'd have to download.  If I downloaded the **GSOY** CSV for every one of the 83,000 or so weather stations that are listed, I'd have to download ~16GB of CSVs (a rough and likely low estimate).  If I wanted to bring in some big data technologies, I could do it, but I don't. So, should I...\n",
    "- get a list of cities commonly considered rainy and find one weather station per city?\n",
    "- get one weather station for every \"big\" city in the U.S.\n",
    "- get all of the weather stations in a few states?\n",
    "\n",
    "Although it's not perfect, I will likely go with the first option"
   ]
  },
  {
   "cell_type": "markdown",
   "metadata": {},
   "source": [
    "## List of U.S. cities and towns commonly considered rainy:\n",
    "- Seattle, WA\n",
    "- Miami, FL\n",
    "- New Orleans, LA\n",
    "- Birmingham, AL\n",
    "- Tampa, FL\n",
    "- NY, NY\n",
    "- White Plains, NY\n",
    "- Brookhaven, NY\n",
    "- Syracuse, NY\n",
    "- Buffalo, NY\n",
    "- Erie, PA\n",
    "- San Francisco, CA\n",
    "- Rochester, NY\n",
    "- Cleveland, OH\n",
    "- Akron, OH\n",
    "- Pittsburgh, OR\n",
    "- Portland, OR\n",
    "- Salem, OR\n",
    "- Houston, TX\n",
    "- Ft. Lauderdale, FL\n",
    "- Tallahasse, FL\n",
    "- Aberdeen, WA\n",
    "- Detroit, MI\n",
    "- Forks, WA"
   ]
  },
  {
   "cell_type": "markdown",
   "metadata": {},
   "source": [
    "**ANYWHERE BUT AKRON, OH!!:**\n",
    "\n",
    "To be honest, I am mostly only interested in living North of the Mason-Dixon line, and also not particularly interested in living in the \"middle of nowhere\" so I'll take cities I am not interested in off of the list.\n",
    "\n",
    "I'll also add a few cities I'm just curious about to come up with this list:"
   ]
  },
  {
   "cell_type": "code",
   "execution_count": 2,
   "metadata": {},
   "outputs": [],
   "source": [
    "cities_stations = {\n",
    "    \"Seattle\": \"USW00094290\",\n",
    "    \"Miami\": \"USW00012839\", # USW00092811\n",
    "    \"New York City\": \"USW00094728\",\n",
    "    \"White Plains\": \"USW00094745\", # techinically Westchester County\n",
    "    \"Brookhaven\": \"USW00054790\",\n",
    "    \"Syracuse\": \"USW00014771\",\n",
    "    \"Buffalo\": \"USW00014733\",\n",
    "    \"Erie\": \"USW00014860\",\n",
    "    \"Pittsburgh\": \"USW00014762\",\n",
    "    \"San Francisco\": \"USW00023272\",\n",
    "    \"West Lafayette\": \"USC00129430\",\n",
    "    # \"Rochester\": \"USW0001476\",\n",
    "    \"Cleveland\": \"USW00014820\",\n",
    "    \"Portland\": \"USC00356750\",\n",
    "    \"Detroit\": \"CA006139520\", # USW00014822, # USC00202016\n",
    "    \"Forks\": \"USC00452914\",\n",
    "    \"Boston\": \"USW00014739\",\n",
    "    \"Madison\": \"USC00470273\",\n",
    "    \"Woods Hole\": \"US1MABA0003\", # US1MABA0013 technically Falmouth, MA\n",
    "    \"Monterey\": \"USW00023259\",\n",
    "    \"Richland\": \"USW00024163\" # USC00457015\n",
    "}"
   ]
  },
  {
   "cell_type": "code",
   "execution_count": 3,
   "metadata": {},
   "outputs": [],
   "source": [
    "partial_schema = pd.DataFrame(\n",
    "    {\n",
    "        \"Column\" : [\n",
    "            \"DATE\",\n",
    "            \"PRCP\",\n",
    "            \"SNOW\",\n",
    "            \"DYFG\",\n",
    "            \"DYHF\",\n",
    "            \"DYTS\",\n",
    "            \"EMXP\",\n",
    "            \"DP01\",\n",
    "            \"DP10\",\n",
    "            \"DP1X\",\n",
    "            \"DSNW\"\n",
    "        ],\n",
    "        \"Description\" : [\n",
    "            \"year AD\",\n",
    "            \"total annual precipitation in inches\",\n",
    "            \"total annual snowfall in inches\",\n",
    "            \"number of days with fog\",\n",
    "            \"number of days with 'heavy' fog\",\n",
    "            \"number of days with thunderstorms\",\n",
    "            \"highest daily total of precipitation in inches\",\n",
    "            \"number of days with over 0.01 inches of unspecified \\\n",
    "            precipitation, probably rain w/o snow\",\n",
    "            \"number of days with over 0.10 inches of unspecified \\\n",
    "            precipitation, probably rain w/o snow\",\n",
    "            \"number of days with over 1.00 inches of unspecified \\\n",
    "            precipitation, probably rain w/o snow\",\n",
    "            \"number of days with over 1.00 inches of snowfall\"\n",
    "        ]\n",
    "    }\n",
    ")"
   ]
  },
  {
   "cell_type": "code",
   "execution_count": 10,
   "metadata": {},
   "outputs": [],
   "source": [
    "columns_selection = list(partial_schema[\"Column\"])"
   ]
  },
  {
   "cell_type": "code",
   "execution_count": 4,
   "metadata": {},
   "outputs": [],
   "source": [
    "cities = total_concat(cities_stations, columns_selection, rng=(2012,2022))"
   ]
  },
  {
   "cell_type": "markdown",
   "metadata": {},
   "source": [
    "# Looking at statistics:\n",
    "## First, mean and median over an 11 year time period (2012-2022)"
   ]
  },
  {
   "cell_type": "code",
   "execution_count": 5,
   "metadata": {},
   "outputs": [],
   "source": [
    "grouped_median = cities.groupby('CITY').median()\n",
    "grouped_mean = cities.groupby('CITY').mean()"
   ]
  },
  {
   "cell_type": "markdown",
   "metadata": {},
   "source": [
    "### Highest annual precipitation (mm) (median)"
   ]
  },
  {
   "cell_type": "code",
   "execution_count": 16,
   "metadata": {},
   "outputs": [
    {
     "data": {
      "text/plain": [
       "CITY\n",
       "Forks             3090.30\n",
       "Miami             1707.00\n",
       "New York City     1175.80\n",
       "Woods Hole        1171.20\n",
       "Portland          1115.40\n",
       "Cleveland         1085.80\n",
       "Brookhaven        1080.00\n",
       "Erie              1074.20\n",
       "Madison           1072.40\n",
       "Pittsburgh        1066.10\n",
       "Buffalo           1058.90\n",
       "Syracuse          1032.90\n",
       "Boston            1026.90\n",
       "Seattle           1017.30\n",
       "Detroit           1016.00\n",
       "White Plains       998.25\n",
       "West Lafayette     972.20\n",
       "San Francisco      577.10\n",
       "Monterey           389.30\n",
       "Richland           168.30\n",
       "Name: PRCP, dtype: float64"
      ]
     },
     "execution_count": 16,
     "metadata": {},
     "output_type": "execute_result"
    }
   ],
   "source": [
    "grouped_median[\"PRCP\"].sort_values(ascending=False)"
   ]
  },
  {
   "cell_type": "markdown",
   "metadata": {},
   "source": [
    "### Highest number of days with any rainfall (mean)"
   ]
  },
  {
   "cell_type": "code",
   "execution_count": 17,
   "metadata": {},
   "outputs": [
    {
     "data": {
      "text/plain": [
       "CITY\n",
       "Forks             231.0\n",
       "Syracuse          172.0\n",
       "Erie              168.0\n",
       "Buffalo           165.0\n",
       "Seattle           161.0\n",
       "Cleveland         159.0\n",
       "Pittsburgh        156.0\n",
       "Portland          156.0\n",
       "Miami             148.0\n",
       "Woods Hole        143.0\n",
       "Detroit           138.0\n",
       "Boston            127.0\n",
       "New York City     127.0\n",
       "Brookhaven        125.0\n",
       "White Plains      125.0\n",
       "Madison           118.0\n",
       "West Lafayette    118.0\n",
       "Richland           71.0\n",
       "San Francisco      67.0\n",
       "Monterey           59.0\n",
       "Name: DP01, dtype: float64"
      ]
     },
     "execution_count": 17,
     "metadata": {},
     "output_type": "execute_result"
    }
   ],
   "source": [
    "grouped_median[\"DP01\"].sort_values(ascending=False)"
   ]
  },
  {
   "cell_type": "markdown",
   "metadata": {},
   "source": [
    "### Highest annual snow (mm) (median)"
   ]
  },
  {
   "cell_type": "code",
   "execution_count": 12,
   "metadata": {},
   "outputs": [
    {
     "data": {
      "text/plain": [
       "CITY\n",
       "Syracuse          2736.0\n",
       "Erie              2225.0\n",
       "Buffalo           2091.0\n",
       "Boston            1275.0\n",
       "Cleveland         1177.0\n",
       "Madison            989.5\n",
       "Detroit            970.0\n",
       "New York City      754.0\n",
       "West Lafayette     489.0\n",
       "Woods Hole         443.0\n",
       "Richland           117.0\n",
       "Portland           104.0\n",
       "Seattle             51.0\n",
       "Miami                0.0\n",
       "Monterey             0.0\n",
       "Brookhaven           NaN\n",
       "Forks                NaN\n",
       "Pittsburgh           NaN\n",
       "San Francisco        NaN\n",
       "White Plains         NaN\n",
       "Name: SNOW, dtype: float64"
      ]
     },
     "execution_count": 12,
     "metadata": {},
     "output_type": "execute_result"
    }
   ],
   "source": [
    "grouped_median[\"SNOW\"].sort_values(ascending=False)"
   ]
  },
  {
   "cell_type": "markdown",
   "metadata": {},
   "source": [
    "### Highest number of days with fog (mean)"
   ]
  },
  {
   "cell_type": "code",
   "execution_count": 13,
   "metadata": {},
   "outputs": [
    {
     "data": {
      "text/plain": [
       "CITY\n",
       "Monterey          175.181818\n",
       "Syracuse          166.090909\n",
       "Buffalo           146.090909\n",
       "Erie              142.363636\n",
       "Cleveland         136.545455\n",
       "New York City     125.363636\n",
       "Boston            117.727273\n",
       "Miami              92.545455\n",
       "Richland           89.454545\n",
       "White Plains       79.818182\n",
       "Pittsburgh         62.363636\n",
       "Seattle            56.090909\n",
       "Brookhaven         44.800000\n",
       "Forks              18.181818\n",
       "Madison             4.000000\n",
       "West Lafayette      2.800000\n",
       "Detroit                  NaN\n",
       "Portland                 NaN\n",
       "San Francisco            NaN\n",
       "Woods Hole               NaN\n",
       "Name: DYFG, dtype: float64"
      ]
     },
     "execution_count": 13,
     "metadata": {},
     "output_type": "execute_result"
    }
   ],
   "source": [
    "grouped_mean[\"DYFG\"].sort_values(ascending=False)"
   ]
  },
  {
   "cell_type": "markdown",
   "metadata": {},
   "source": [
    "# Extra Methods:"
   ]
  },
  {
   "cell_type": "code",
   "execution_count": 7,
   "metadata": {},
   "outputs": [],
   "source": [
    "# check_years(cities_stations, rng=(2011, 2021))"
   ]
  },
  {
   "cell_type": "markdown",
   "metadata": {},
   "source": [
    "# Issues\n",
    "- **Weather station may not be representative of entire city:** Especially with measurements like days with fog, which is a spotty phenomenon, you could be living somewhere around a city, but just not close enough to the weather station to see what they report.  For example, in Cleveland, if you live a few miles from Lake Erie, you will be much less likely to see fog than the weather station close to Lake Erie.  \n",
    "- Also, in an ideal world, I would attempt to take measurements from several weather stations and aggregate them somehow to be more representative of a general area.  Although, since there are quite a few small towns with relatively sparse data available, I'm not so sure that would be smart.\n",
    "- **Sample size:** I am only sampling 2011-2021 here, 11 years.  I wish I could sample back into the 70's or so, but there are too many fragmented datasets to pick a larger range, so 11 years of data will have to do.  If I am curious about comparing a few cities furthere, I may use Global Summary of the Month (**GSOM**) data to look further.\n",
    "- **You may be tempted to say a city on here is \"high\" or \"low\" compared to others,** however, this dataset was hand-selected and is skewed towards notoriously rainy places, so it wouldn't really be honest to say \"Lafayette gets low rain\" because it is only being compared to the upper echelon of rainy places in the USA."
   ]
  }
 ],
 "metadata": {
  "kernelspec": {
   "display_name": "venv",
   "language": "python",
   "name": "python3"
  },
  "language_info": {
   "codemirror_mode": {
    "name": "ipython",
    "version": 3
   },
   "file_extension": ".py",
   "mimetype": "text/x-python",
   "name": "python",
   "nbconvert_exporter": "python",
   "pygments_lexer": "ipython3",
   "version": "3.8.9"
  }
 },
 "nbformat": 4,
 "nbformat_minor": 2
}

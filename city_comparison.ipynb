{
 "cells": [
  {
   "cell_type": "markdown",
   "metadata": {},
   "source": [
    "# Comparing rainfall across cities\n",
    "##### Author: John Mays"
   ]
  },
  {
   "cell_type": "code",
   "execution_count": 28,
   "metadata": {},
   "outputs": [],
   "source": [
    "import pandas as pd\n",
    "from city_comparison_helpers import *"
   ]
  },
  {
   "cell_type": "markdown",
   "metadata": {},
   "source": [
    "The question here is, what cities should I consider?  The more cities I consider, the more data I'd have to download.  If I downloaded the **GSOY** CSV for every one of the 83,000 or so weather stations that are listed, I'd have to download ~16GB of CSVs (a rough and likely low estimate).  If I wanted to bring in some big data technologies, I could do it, but I don't. So, should I...\n",
    "- get a list of cities commonly considered rainy and find one weather station per city?\n",
    "- get one weather station for every \"big\" city in the U.S.\n",
    "- get all of the weather stations in a few states?\n",
    "\n",
    "Although it's not perfect, I will likely go with the first option"
   ]
  },
  {
   "cell_type": "markdown",
   "metadata": {},
   "source": [
    "## List of U.S. cities and towns commonly considered rainy:\n",
    "- Seattle, WA\n",
    "- Miami, FL\n",
    "- New Orleans, LA\n",
    "- Birmingham, AL\n",
    "- Tampa, FL\n",
    "- NY, NY\n",
    "- White Plains, NY\n",
    "- Brookhaven, NY\n",
    "- Syracuse, NY\n",
    "- Buffalo, NY\n",
    "- Erie, PA\n",
    "- San Francisco, CA\n",
    "- Rochester, NY\n",
    "- Cleveland, OH\n",
    "- Akron, OH\n",
    "- Pittsburgh, OR\n",
    "- Portland, OR\n",
    "- Salem, OR\n",
    "- Houston, TX\n",
    "- Ft. Lauderdale, FL\n",
    "- Tallahasse, FL\n",
    "- Aberdeen, WA\n",
    "- Detroit, MI\n",
    "- Forks, WA"
   ]
  },
  {
   "cell_type": "markdown",
   "metadata": {},
   "source": [
    "**ANYWHERE BUT AKRON, OH!!:**\n",
    "\n",
    "To be honest, I am mostly only interested in living North of the Mason-Dixon line, and also not particularly interested in living in the \"middle of nowhere\" so I'll take cities I am not interested in off of the list.\n",
    "\n",
    "I'll also add a few cities I'm just curious about to come up with this list:"
   ]
  },
  {
   "cell_type": "code",
   "execution_count": 26,
   "metadata": {},
   "outputs": [],
   "source": [
    "cities_stations = {\n",
    "    \"Seattle\": \"USW00094290\",\n",
    "    \"Miami\": \"USW00092811\", # cuts off at 2021 (Dec)\n",
    "    \"New York City\": \"USW00094728\",\n",
    "    \"White Plains\": \"USW00094745\", # techinically Westchester County 2011,13,14\n",
    "    \"Brookhaven\": \"USW00054790\",\n",
    "    \"Syracuse\": \"USW00014771\",\n",
    "    \"Buffalo\": \"USW00014733\",\n",
    "    \"Erie\": \"USW00014860\",\n",
    "    \"Pittsburgh\": \"USW00014762\",\n",
    "    \"San Francisco\": \"USW00023272\",\n",
    "    \"West Lafayette\": \"USC00129435\", # MISSING YEARS 2021\n",
    "    # \"Rochester\": \"USW0001476\",\n",
    "    \"Cleveland\": \"USW00014820\",\n",
    "    \"Portland\": \"USC00356750\",\n",
    "    \"Detroit\": \"USW00014822\",\n",
    "    \"Forks\": \"USC00452914\",\n",
    "    \"Boston\": \"USW00014739\",\n",
    "    \"Madison\": \"USC00470273\",\n",
    "    \"Woods Hole\": \"US1MABA0013\", # technically Falmouth, MA  ## MISSING YEARS (tons)\n",
    "    \"Monterey\": \"USW00023259\",\n",
    "    \"Richland\": \"USC00457015\" ## MISSING 13,14\n",
    "}"
   ]
  },
  {
   "cell_type": "code",
   "execution_count": 3,
   "metadata": {},
   "outputs": [],
   "source": [
    "def total_concat(city_dict):\n",
    "    '''\n",
    "        Intelligently concatenates the individual dataframes for all of\n",
    "        the cities\n",
    "        @param\n",
    "    '''\n",
    "    pass"
   ]
  },
  {
   "cell_type": "code",
   "execution_count": 4,
   "metadata": {},
   "outputs": [],
   "source": [
    "city_one = pd.read_csv(\"./data/GSOY/US1MABA0013.csv\")\n",
    "city_two = pd.read_csv(\"./data/GSOY/US1WAKG0005.csv\")"
   ]
  },
  {
   "cell_type": "code",
   "execution_count": 9,
   "metadata": {},
   "outputs": [
    {
     "name": "stdout",
     "output_type": "stream",
     "text": [
      "['STATION', 'DATE', 'LATITUDE', 'LONGITUDE', 'ELEVATION', 'NAME', 'DP01', 'DP01_ATTRIBUTES', 'DP10', 'DP10_ATTRIBUTES', 'DP1X', 'DP1X_ATTRIBUTES', 'EMXP', 'EMXP_ATTRIBUTES', 'PRCP', 'PRCP_ATTRIBUTES']\n",
      "['STATION', 'DATE', 'LATITUDE', 'LONGITUDE', 'ELEVATION', 'NAME', 'DP01', 'DP01_ATTRIBUTES', 'DP10', 'DP10_ATTRIBUTES', 'DP1X', 'DP1X_ATTRIBUTES', 'DSND', 'DSND_ATTRIBUTES', 'DSNW', 'DSNW_ATTRIBUTES', 'EMSD', 'EMSD_ATTRIBUTES', 'EMSN', 'EMSN_ATTRIBUTES', 'EMXP', 'EMXP_ATTRIBUTES', 'PRCP', 'PRCP_ATTRIBUTES', 'SNOW', 'SNOW_ATTRIBUTES']\n"
     ]
    }
   ],
   "source": [
    "print(list(city_one.columns))\n",
    "print(list(city_two.columns))"
   ]
  },
  {
   "cell_type": "code",
   "execution_count": 14,
   "metadata": {},
   "outputs": [
    {
     "name": "stdout",
     "output_type": "stream",
     "text": [
      "(6, 16)\n",
      "(11, 26)\n"
     ]
    }
   ],
   "source": [
    "print(city_one.shape)\n",
    "print(city_two.shape)"
   ]
  },
  {
   "cell_type": "markdown",
   "metadata": {},
   "source": [
    "- `SNOW` in city_two but not in city_one\n",
    "- "
   ]
  },
  {
   "cell_type": "markdown",
   "metadata": {},
   "source": [
    "# YEAR METHOD TESTING:"
   ]
  },
  {
   "cell_type": "code",
   "execution_count": 12,
   "metadata": {},
   "outputs": [
    {
     "data": {
      "text/plain": [
       "'US1WAKG0005'"
      ]
     },
     "execution_count": 12,
     "metadata": {},
     "output_type": "execute_result"
    }
   ],
   "source": [
    "cities_stations['Bellevue']"
   ]
  },
  {
   "cell_type": "code",
   "execution_count": 13,
   "metadata": {},
   "outputs": [],
   "source": [
    "city = pd.read_csv(\"./data/GSOY/US1WAKG0005.csv\")"
   ]
  },
  {
   "cell_type": "code",
   "execution_count": 16,
   "metadata": {},
   "outputs": [
    {
     "data": {
      "text/plain": [
       "[2009, 2010, 2012, 2015, 2016, 2017, 2018, 2019, 2020, 2021, 2022]"
      ]
     },
     "execution_count": 16,
     "metadata": {},
     "output_type": "execute_result"
    }
   ],
   "source": [
    "list(city[\"DATE\"])"
   ]
  },
  {
   "cell_type": "code",
   "execution_count": 27,
   "metadata": {},
   "outputs": [
    {
     "name": "stdout",
     "output_type": "stream",
     "text": [
      "Bellevue is missing years:\n",
      "2013\n",
      "2014\n",
      "Miami is missing years:\n",
      "2018\n",
      "2019\n",
      "2020\n",
      "West Lafayette is missing years:\n",
      "2021\n",
      "Detroit is missing years:\n",
      "2014\n",
      "Woods Hole is missing years:\n",
      "2013\n",
      "2015\n",
      "2016\n",
      "2018\n",
      "2021\n",
      "Richland is missing years:\n",
      "2014\n",
      "2015\n"
     ]
    }
   ],
   "source": [
    "check_years(cities_stations)"
   ]
  },
  {
   "cell_type": "code",
   "execution_count": 17,
   "metadata": {},
   "outputs": [
    {
     "name": "stdout",
     "output_type": "stream",
     "text": [
      "2012\n",
      "2013\n",
      "2014\n",
      "2015\n",
      "2016\n",
      "2017\n",
      "2018\n",
      "2019\n",
      "2020\n"
     ]
    }
   ],
   "source": [
    "for i in range(2012,2021):\n",
    "    print(i)"
   ]
  },
  {
   "cell_type": "code",
   "execution_count": 19,
   "metadata": {},
   "outputs": [
    {
     "data": {
      "text/plain": [
       "['Bellevue',\n",
       " 'Seattle',\n",
       " 'Miami',\n",
       " 'New York City',\n",
       " 'White Plains',\n",
       " 'Brookhaven',\n",
       " 'Syracuse',\n",
       " 'Buffalo',\n",
       " 'Erie',\n",
       " 'Pittsburgh',\n",
       " 'San Francisco',\n",
       " 'West Lafayette',\n",
       " 'Rochester',\n",
       " 'Cleveland',\n",
       " 'Portland',\n",
       " 'Detroit',\n",
       " 'Forks',\n",
       " 'Boston',\n",
       " 'Madison',\n",
       " 'Woods Hole',\n",
       " 'Monterey',\n",
       " 'Richland']"
      ]
     },
     "execution_count": 19,
     "metadata": {},
     "output_type": "execute_result"
    }
   ],
   "source": [
    "list(cities_stations.keys())"
   ]
  },
  {
   "cell_type": "code",
   "execution_count": null,
   "metadata": {},
   "outputs": [],
   "source": []
  }
 ],
 "metadata": {
  "kernelspec": {
   "display_name": "venv",
   "language": "python",
   "name": "python3"
  },
  "language_info": {
   "codemirror_mode": {
    "name": "ipython",
    "version": 3
   },
   "file_extension": ".py",
   "mimetype": "text/x-python",
   "name": "python",
   "nbconvert_exporter": "python",
   "pygments_lexer": "ipython3",
   "version": "3.8.9"
  }
 },
 "nbformat": 4,
 "nbformat_minor": 2
}

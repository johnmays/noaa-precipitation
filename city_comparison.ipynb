{
 "cells": [
  {
   "cell_type": "markdown",
   "metadata": {},
   "source": [
    "# Comparing rainfall across cities in the continental U.S.A.\n",
    "##### Author: John Mays\n",
    "## Setup:"
   ]
  },
  {
   "cell_type": "code",
   "execution_count": 1,
   "metadata": {},
   "outputs": [],
   "source": [
    "import pandas as pd\n",
    "import matplotlib.pyplot as plt\n",
    "# the code from this notebook has been moved to this .py file:\n",
    "import city_comparison_helpers as cch"
   ]
  },
  {
   "cell_type": "markdown",
   "metadata": {},
   "source": [
    "The question here is, what cities should I consider?  The more cities I consider, the more data I'd have to download.  If I downloaded the **GSOY** CSV for every one of the 83,000 or so weather stations that are listed, I'd have to download ~16GB of CSVs (a rough and likely low estimate).  If I wanted to bring in some big data technologies, I could do it, but I don't. So, should I...\n",
    "- get a list of cities commonly considered rainy and find one weather station per city?\n",
    "- get one weather station for every \"big\" city in the U.S.\n",
    "- get all of the weather stations in a few states?\n",
    "\n",
    "Although it's not perfect, I will likely go with the first option"
   ]
  },
  {
   "cell_type": "markdown",
   "metadata": {},
   "source": [
    "##### List of U.S. cities and towns commonly considered rainy:\n",
    "- Seattle, WA\n",
    "- Miami, FL\n",
    "- New Orleans, LA\n",
    "- Birmingham, AL\n",
    "- Tampa, FL\n",
    "- NY, NY\n",
    "- White Plains, NY\n",
    "- Brookhaven, NY\n",
    "- Syracuse, NY\n",
    "- Buffalo, NY\n",
    "- Erie, PA\n",
    "- San Francisco, CA\n",
    "- Rochester, NY\n",
    "- Cleveland, OH\n",
    "- Akron, OH\n",
    "- Pittsburgh, OR\n",
    "- Portland, OR\n",
    "- Salem, OR\n",
    "- Houston, TX\n",
    "- Ft. Lauderdale, FL\n",
    "- Tallahasse, FL\n",
    "- Aberdeen, WA\n",
    "- Detroit, MI\n",
    "- Forks, WA"
   ]
  },
  {
   "cell_type": "markdown",
   "metadata": {},
   "source": [
    "**ANYWHERE BUT AKRON, OH!!:**\n",
    "\n",
    "To be honest, I am mostly only interested in living North of the Mason-Dixon line, and also not particularly interested in living in the \"middle of nowhere\" so I'll take cities I am not interested in off of the list.\n",
    "\n",
    "I'll also add a few cities I'm just curious about to come up with this list:"
   ]
  },
  {
   "cell_type": "code",
   "execution_count": 2,
   "metadata": {},
   "outputs": [],
   "source": [
    "# range of years I'm considering:\n",
    "rng = (2011, 2021) # (inclusive)"
   ]
  },
  {
   "cell_type": "code",
   "execution_count": 3,
   "metadata": {},
   "outputs": [],
   "source": [
    "cities_stations = {\n",
    "    \"Seattle\": \"USW00094290\",\n",
    "    \"Miami\": \"USW00012839\", # USW00092811\n",
    "    \"New York City\": \"USW00094728\",\n",
    "    \"White Plains\": \"USW00094745\", # techinically Westchester County, NY\n",
    "    \"Brookhaven\": \"USW00054790\",\n",
    "    \"Syracuse\": \"USW00014771\",\n",
    "    \"Buffalo\": \"USW00014733\",\n",
    "    \"Erie\": \"USW00014860\",\n",
    "    \"Pittsburgh\": \"USW00014762\",\n",
    "    \"San Francisco\": \"USW00023272\",\n",
    "    \"West Lafayette\": \"USC00129430\",\n",
    "    \"Cleveland\": \"USW00014820\",\n",
    "    \"Portland\": \"USC00356750\",\n",
    "    \"Detroit\": \"CA006139520\", # USW00014822, # USC00202016\n",
    "    \"Forks\": \"USC00452914\",\n",
    "    \"Boston\": \"USW00014739\",\n",
    "    \"Madison\": \"USC00470273\",\n",
    "    \"Woods Hole\": \"US1MABA0003\", # US1MABA0013 | technically Falmouth, MA\n",
    "    \"Monterey\": \"USW00023259\",\n",
    "    \"Richland\": \"USW00024163\", # USC00457015\n",
    "    \"Cincinnati\": \"USW00093812\",\n",
    "    \"Rochester\": \"USC00309049\", # USW0001476\n",
    "    \"Astoria\": \"USW00094224\", # (Oregon)\n",
    "    \"Annette\": \"USW00025325\", # technically Ketchikan, AK\n",
    "    \"Columbus\": \"USW00014821\",\n",
    "    \"New Orleans\": \"USW00012916\",\n",
    "    \"Houston\": \"USW00012960\",\n",
    "    \"Port Arthur\": \"USW00012917\", # (Texas)\n",
    "    \"Lake Jackson\": \"USW00012976\",\n",
    "    \"Sequim\": \"USC00457544\", # (Washington)\n",
    "    \"Spokane\": \"USW00024157\",\n",
    "    \"Quillayute\": \"USW00094240\",\n",
    "    \"Aberdeen\": \"USC00450008\",\n",
    "    \"Hoquiam\": \"USW00094225\",\n",
    "    \"Conneaut\": \"USW00004857\", # (Ohio)\n",
    "    \"Driggs\": \"USC00480140\", # USC00102676 | technically Alta, Wyoming\n",
    "    \"Norton\": \"USC00449215\", # technically Wise, Virginia\n",
    "    # NO COMPLETE DATA IN VICINITY:\n",
    "    # \"Seaside\": \"USC00357641\", # (Oregon) \n",
    "    \"Dunkirk\": \"USW00014747\", # US1NYCQ0009 | (New York)\n",
    "    \"West Palm\": \"USW00012844\", # (Florida)\n",
    "    \"Presque Isle\": \"USW00014607\", # technically Caribou, Maine\n",
    "    \"Brassau Dam\": \"USC00170814\" # (Maine)\n",
    "}"
   ]
  },
  {
   "cell_type": "code",
   "execution_count": 4,
   "metadata": {},
   "outputs": [],
   "source": [
    "cch.check_years(cities_stations, rng=rng)"
   ]
  },
  {
   "cell_type": "code",
   "execution_count": 5,
   "metadata": {},
   "outputs": [],
   "source": [
    "partial_schema = pd.DataFrame(\n",
    "    {\n",
    "        \"Column\" : [\n",
    "            \"DATE\",\n",
    "            \"PRCP\",\n",
    "            \"SNOW\",\n",
    "            \"DYFG\",\n",
    "            \"DYHF\",\n",
    "            \"DYTS\",\n",
    "            \"EMXP\",\n",
    "            \"DP01\",\n",
    "            \"DP10\",\n",
    "            \"DP1X\",\n",
    "            \"DSNW\"\n",
    "        ],\n",
    "        \"Description\" : [\n",
    "            \"year AD\",\n",
    "            \"total annual precipitation in inches\",\n",
    "            \"total annual snowfall in inches\",\n",
    "            \"number of days with fog\",\n",
    "            \"number of days with 'heavy' fog\",\n",
    "            \"number of days with thunderstorms\",\n",
    "            \"highest daily total of precipitation in inches\",\n",
    "            \"number of days with over 0.01 inches of unspecified \\\n",
    "            precipitation, probably rain w/o snow\",\n",
    "            \"number of days with over 0.10 inches of unspecified \\\n",
    "            precipitation, probably rain w/o snow\",\n",
    "            \"number of days with over 1.00 inches of unspecified \\\n",
    "            precipitation, probably rain w/o snow\",\n",
    "            \"number of days with over 1.00 inches of snowfall\"\n",
    "        ]\n",
    "    }\n",
    ")"
   ]
  },
  {
   "cell_type": "code",
   "execution_count": 6,
   "metadata": {},
   "outputs": [],
   "source": [
    "columns_selection = list(partial_schema[\"Column\"])"
   ]
  },
  {
   "cell_type": "code",
   "execution_count": 7,
   "metadata": {},
   "outputs": [],
   "source": [
    "cities = cch.total_concat(cities_stations, columns_selection, rng=rng)"
   ]
  },
  {
   "cell_type": "markdown",
   "metadata": {},
   "source": [
    "## Looking at statistics:\n",
    "### First, mean and median over an 11 year time period (2012-2022)"
   ]
  },
  {
   "cell_type": "code",
   "execution_count": 8,
   "metadata": {},
   "outputs": [],
   "source": [
    "grouped_median = cities.groupby('CITY').median()\n",
    "grouped_mean = cities.groupby('CITY').mean()"
   ]
  },
  {
   "cell_type": "markdown",
   "metadata": {},
   "source": [
    "### Looking at some ranked lists and numbers:"
   ]
  },
  {
   "cell_type": "markdown",
   "metadata": {},
   "source": [
    "#### Two ways of measuring precipitation\n",
    "1. Annual rainfall sum\n",
    "2. number of days with (any amount of) rain per year"
   ]
  },
  {
   "cell_type": "code",
   "execution_count": 9,
   "metadata": {},
   "outputs": [
    {
     "name": "stdout",
     "output_type": "stream",
     "text": [
      "Mean rainfal per year (mm) | Number of days with any rainfall\n",
      "CITY                       | CITY\n",
      "Annette           3826.20  | Annette           237.0\n",
      "Forks             3090.30  | Forks             231.0\n",
      "Quillayute        2727.50  | Quillayute        200.0\n",
      "Aberdeen          2310.50  | Astoria           199.0\n",
      "Astoria           1851.90  | Aberdeen          195.0\n",
      "Hoquiam           1829.80  | Hoquiam           185.0\n",
      "New Orleans       1734.50  | Rochester         179.5\n",
      "Miami             1676.00  | Syracuse          177.0\n",
      "Port Arthur       1669.20  | Seattle           176.0\n",
      "West Palm         1502.70  | Erie              175.0\n",
      "Norton            1405.80  | Buffalo           167.0\n",
      "Houston           1293.00  | Cleveland         163.0\n",
      "Woods Hole        1199.90  | Presque Isle      163.0\n",
      "New York City     1177.30  | Brassau Dam       162.0\n",
      "Lake Jackson      1172.20  | Norton            162.0\n",
      "Cincinnati        1166.30  | Portland          157.0\n",
      "Pittsburgh        1122.70  | Pittsburgh        157.0\n",
      "Columbus          1117.30  | Sequim            149.0\n",
      "Portland          1115.40  | Miami             146.0\n",
      "Cleveland         1114.20  | Conneaut          145.0\n",
      "Boston            1104.60  | Woods Hole        143.0\n",
      "Brassau Dam       1096.40  | Dunkirk           142.0\n",
      "Brookhaven        1083.80  | Columbus          141.0\n",
      "Erie              1074.20  | West Palm         140.0\n",
      "Madison           1072.40  | Detroit           138.0\n",
      "White Plains      1066.05  | Cincinnati        133.0\n",
      "Syracuse          1064.30  | White Plains      130.5\n",
      "Buffalo           1058.90  | Boston            129.0\n",
      "Presque Isle      1056.40  | New York City     127.0\n",
      "Detroit           1020.80  | Brookhaven        126.0\n",
      "Seattle           1017.30  | Madison           122.0\n",
      "West Lafayette     972.20  | New Orleans       119.0\n",
      "Rochester          969.55  | West Lafayette    118.0\n",
      "Conneaut           798.40  | Port Arthur       113.0\n",
      "Dunkirk            762.10  | Lake Jackson      109.0\n",
      "Driggs             625.70  | Houston           108.0\n",
      "San Francisco      577.10  | Spokane           107.0\n",
      "Sequim             474.00  | Driggs             93.0\n",
      "Monterey           404.40  | San Francisco      71.0\n",
      "Spokane            392.50  | Richland           71.0\n",
      "Richland           162.60  | Monterey           65.0\n"
     ]
    }
   ],
   "source": [
    "cch.series_comparison(grouped_median[\"PRCP\"].sort_values(ascending=False),\n",
    "                  grouped_median[\"DP01\"].sort_values(ascending=False),\n",
    "                  titles = [\"Mean rainfal per year (mm)\", \"Number of days with any rainfall\"])"
   ]
  },
  {
   "cell_type": "markdown",
   "metadata": {},
   "source": [
    "#### Highest annual snow (mm) (median)"
   ]
  },
  {
   "cell_type": "code",
   "execution_count": 10,
   "metadata": {},
   "outputs": [
    {
     "data": {
      "text/plain": [
       "CITY\n",
       "Presque Isle      3161.0\n",
       "Driggs            3145.0\n",
       "Syracuse          2840.0\n",
       "Brassau Dam       2594.0\n",
       "Erie              2303.0\n",
       "Rochester         2266.0\n",
       "Buffalo           2088.0\n",
       "Boston            1275.0\n",
       "Cleveland         1177.0\n",
       "Spokane            989.0\n",
       "Detroit            980.0\n",
       "Madison            956.0\n",
       "Norton             886.0\n",
       "New York City      880.0\n",
       "Columbus           643.0\n",
       "West Lafayette     489.0\n",
       "Woods Hole         429.5\n",
       "Portland           136.0\n",
       "Richland           117.0\n",
       "Seattle             64.0\n",
       "Lake Jackson         0.0\n",
       "Houston              0.0\n",
       "Monterey             0.0\n",
       "Aberdeen             NaN\n",
       "Annette              NaN\n",
       "Astoria              NaN\n",
       "Brookhaven           NaN\n",
       "Cincinnati           NaN\n",
       "Conneaut             NaN\n",
       "Dunkirk              NaN\n",
       "Forks                NaN\n",
       "Hoquiam              NaN\n",
       "Miami                NaN\n",
       "New Orleans          NaN\n",
       "Pittsburgh           NaN\n",
       "Port Arthur          NaN\n",
       "Quillayute           NaN\n",
       "San Francisco        NaN\n",
       "Sequim               NaN\n",
       "West Palm            NaN\n",
       "White Plains         NaN\n",
       "Name: SNOW, dtype: float64"
      ]
     },
     "execution_count": 10,
     "metadata": {},
     "output_type": "execute_result"
    }
   ],
   "source": [
    "grouped_median[\"SNOW\"].sort_values(ascending=False)"
   ]
  },
  {
   "cell_type": "markdown",
   "metadata": {},
   "source": [
    "#### Fog vs. Rain (median)"
   ]
  },
  {
   "cell_type": "code",
   "execution_count": 11,
   "metadata": {},
   "outputs": [
    {
     "name": "stdout",
     "output_type": "stream",
     "text": [
      "Median number of foggy days | Median number of rainy days\n",
      "CITY                        | CITY\n",
      "Hoquiam           286.0     | Annette           237.0\n",
      "Quillayute        270.0     | Forks             231.0\n",
      "Cincinnati        245.0     | Quillayute        200.0\n",
      "Astoria           240.0     | Astoria           199.0\n",
      "Lake Jackson      232.0     | Aberdeen          195.0\n",
      "Annette           222.0     | Hoquiam           185.0\n",
      "Port Arthur       213.0     | Rochester         179.5\n",
      "Monterey          180.0     | Syracuse          177.0\n",
      "Columbus          176.0     | Seattle           176.0\n",
      "Presque Isle      171.0     | Erie              175.0\n",
      "Syracuse          168.0     | Buffalo           167.0\n",
      "New Orleans       161.0     | Cleveland         163.0\n",
      "Houston           157.0     | Presque Isle      163.0\n",
      "Cleveland         156.0     | Brassau Dam       162.0\n",
      "Buffalo           156.0     | Norton            162.0\n",
      "Erie              146.0     | Portland          157.0\n",
      "New York City     142.0     | Pittsburgh        157.0\n",
      "Boston            131.0     | Sequim            149.0\n",
      "Spokane           121.0     | Miami             146.0\n",
      "Miami              99.0     | Conneaut          145.0\n",
      "West Palm          97.0     | Woods Hole        143.0\n",
      "Rochester          83.0     | Dunkirk           142.0\n",
      "Richland           82.0     | Columbus          141.0\n",
      "White Plains       71.0     | West Palm         140.0\n",
      "Seattle            59.0     | Detroit           138.0\n",
      "Conneaut           44.0     | Cincinnati        133.0\n",
      "Pittsburgh         30.0     | White Plains      130.5\n",
      "Dunkirk            21.0     | Boston            129.0\n",
      "Brookhaven         20.5     | New York City     127.0\n",
      "Forks              18.0     | Brookhaven        126.0\n",
      "Norton              5.0     | Madison           122.0\n",
      "Madison             4.0     | New Orleans       119.0\n",
      "Brassau Dam         3.5     | West Lafayette    118.0\n",
      "West Lafayette      2.0     | Port Arthur       113.0\n",
      "Driggs              1.0     | Lake Jackson      109.0\n",
      "Aberdeen            NaN     | Houston           108.0\n",
      "Detroit             NaN     | Spokane           107.0\n",
      "Portland            NaN     | Driggs             93.0\n",
      "San Francisco       NaN     | San Francisco      71.0\n",
      "Sequim              NaN     | Richland           71.0\n",
      "Woods Hole          NaN     | Monterey           65.0\n"
     ]
    }
   ],
   "source": [
    "cch.series_comparison(grouped_median[\"DYFG\"].sort_values(ascending=False),\n",
    "                  grouped_median[\"DP01\"].sort_values(ascending=False),\n",
    "                  titles = [\"Median number of foggy days\", \"Median number of rainy days\"])"
   ]
  },
  {
   "cell_type": "markdown",
   "metadata": {},
   "source": [
    "## Extra Methods:"
   ]
  },
  {
   "cell_type": "code",
   "execution_count": 12,
   "metadata": {},
   "outputs": [],
   "source": [
    "# cch.check_years(cities_stations, rng=(2011, 2021))"
   ]
  },
  {
   "cell_type": "markdown",
   "metadata": {},
   "source": [
    "# Issues\n",
    "- **Weather station may not be representative of entire city:** Especially with measurements like days with fog, which is a spotty phenomenon, you could be living somewhere around a city, but just not close enough to the weather station to see what they report.  For example, in Cleveland, if you live a few miles from Lake Erie, you will be much less likely to see fog than the weather station close to Lake Erie.  \n",
    "- Also, in an ideal world, I would attempt to take measurements from several weather stations and aggregate them somehow to be more representative of a general area.  Although, since there are quite a few small towns with relatively sparse data available, I'm not so sure that would be smart.\n",
    "- **Sample size:** I am only sampling 2011-2021 here, 11 years.  I wish I could sample back into the 70's or so, but there are too many fragmented datasets to pick a larger range, so 11 years of data will have to do.  If I am curious about comparing a few cities furthere, I may use Global Summary of the Month (**GSOM**) data to look further.\n",
    "- **You may be tempted to say a city on here is \"high\" or \"low\" compared to others,** however, this dataset was hand-selected and is skewed towards notoriously rainy places, so it wouldn't really be honest to say \"Lafayette gets low rain\" because it is only being compared to the upper echelon of rainy places in the USA."
   ]
  }
 ],
 "metadata": {
  "kernelspec": {
   "display_name": "venv",
   "language": "python",
   "name": "python3"
  },
  "language_info": {
   "codemirror_mode": {
    "name": "ipython",
    "version": 3
   },
   "file_extension": ".py",
   "mimetype": "text/x-python",
   "name": "python",
   "nbconvert_exporter": "python",
   "pygments_lexer": "ipython3",
   "version": "3.8.9"
  }
 },
 "nbformat": 4,
 "nbformat_minor": 2
}

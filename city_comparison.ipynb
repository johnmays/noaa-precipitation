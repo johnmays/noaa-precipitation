{
 "cells": [
  {
   "cell_type": "markdown",
   "metadata": {},
   "source": [
    "# Comparing rainfall across cities\n",
    "##### Author: John Mays"
   ]
  },
  {
   "cell_type": "code",
   "execution_count": 1,
   "metadata": {},
   "outputs": [],
   "source": [
    "import pandas as pd"
   ]
  },
  {
   "cell_type": "markdown",
   "metadata": {},
   "source": [
    "The question here is, what cities should I consider?  The more cities I consider, the more data I'd have to download.  If I downloaded the **GSOY** CSV for every one of the 83,000 or so weather stations that are listed, I'd have to download ~16GB of CSVs (a rough and likely low estimate).  If I wanted to bring in some big data technologies, I could do it, but I don't. So, should I...\n",
    "- get a list of cities commonly considered rainy and find one weather station per city?\n",
    "- get one weather station for every \"big\" city in the U.S.\n",
    "- get all of the weather stations in a few states?\n",
    "\n",
    "Although it's not perfect, I will likely go with the first option"
   ]
  },
  {
   "cell_type": "markdown",
   "metadata": {},
   "source": [
    "## List of U.S. cities and towns commonly considered rainy:\n",
    "- Seattle, WA\n",
    "- Miami, FL\n",
    "- New Orleans, LA\n",
    "- Birmingham, AL\n",
    "- Tampa, FL\n",
    "- NY, NY\n",
    "- White Plains, NY\n",
    "- Brookhaven, NY\n",
    "- Syracuse, NY\n",
    "- Buffalo, NY\n",
    "- Erie, PA\n",
    "- San Francisco, CA\n",
    "- Rochester, NY\n",
    "- Cleveland, OH\n",
    "- Akron, OH\n",
    "- Pittsburgh, OR\n",
    "- Portland, OR\n",
    "- Salem, OR\n",
    "- Houston, TX\n",
    "- Ft. Lauderdale, FL\n",
    "- Tallahasse, FL\n",
    "- Aberdeen, WA\n",
    "- Detroit, MI\n",
    "- Forks, WA"
   ]
  },
  {
   "cell_type": "markdown",
   "metadata": {},
   "source": [
    "**ANYWHERE BUT AKRON, OH!!:**\n",
    "\n",
    "To be honest, I am mostly only interested in living North of the Mason-Dixon line, and also not particularly interested in living in the \"middle of nowhere\" so I'll take cities I am not interested in off of the list.\n",
    "\n",
    "I'll also add a few cities I'm just curious about to come up with this list:"
   ]
  },
  {
   "cell_type": "code",
   "execution_count": 2,
   "metadata": {},
   "outputs": [],
   "source": [
    "cities_stations = {\n",
    "    \"Bellevue\": \"US1WAKG0005\", # in actuality, weather station is in Mercer Island \n",
    "    \"Seattle\": \"USW00094290\",\n",
    "    \"Miami\": \"USW00092811\", # cuts off at 2021 (Dec)\n",
    "    \"New York City\": \"USW00094728\",\n",
    "    \"White Plains\": \"USW00094745\", # techinically Westchester County\n",
    "    \"Brookhaven\": \"USW00054790\",\n",
    "    \"Syracuse\": \"USW00014771\",\n",
    "    \"Buffalo\": \"USW00014733\",\n",
    "    \"Erie\": \"USW00014860\",\n",
    "    \"Pittsburgh\": \"USW00014762\",\n",
    "    \"San Francisco\": \"USW00023272\",\n",
    "    \"West Lafayette\": \"USC00129435\",\n",
    "    \"Rochester\": \"USW0001476\",\n",
    "    \"Cleveland\": \"USW00014820\",\n",
    "    \"Portland\": \"USC00356750\",\n",
    "    \"Detroit\": \"USW00014822\",\n",
    "    \"Forks\": \"USC00452914\",\n",
    "    \"Boston\": \"USW00014739\",\n",
    "    \"Madison\": \"USC00470273\",\n",
    "    \"Woods Hole\": \"US1MABA0013\", # technically Falmouth, MA\n",
    "    \"Monterey\": \"USW00023259\",\n",
    "    \"Richland\": \"USC00457015\"\n",
    "}"
   ]
  }
 ],
 "metadata": {
  "kernelspec": {
   "display_name": "venv",
   "language": "python",
   "name": "python3"
  },
  "language_info": {
   "codemirror_mode": {
    "name": "ipython",
    "version": 3
   },
   "file_extension": ".py",
   "mimetype": "text/x-python",
   "name": "python",
   "nbconvert_exporter": "python",
   "pygments_lexer": "ipython3",
   "version": "3.8.9"
  }
 },
 "nbformat": 4,
 "nbformat_minor": 2
}

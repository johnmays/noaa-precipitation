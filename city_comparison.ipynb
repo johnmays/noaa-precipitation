{
 "cells": [
  {
   "cell_type": "markdown",
   "metadata": {},
   "source": [
    "# Comparing rainfall across cities\n",
    "##### Author: John Mays"
   ]
  },
  {
   "cell_type": "code",
   "execution_count": 1,
   "metadata": {},
   "outputs": [],
   "source": [
    "import pandas as pd\n",
    "from city_comparison_helpers import *"
   ]
  },
  {
   "cell_type": "markdown",
   "metadata": {},
   "source": [
    "The question here is, what cities should I consider?  The more cities I consider, the more data I'd have to download.  If I downloaded the **GSOY** CSV for every one of the 83,000 or so weather stations that are listed, I'd have to download ~16GB of CSVs (a rough and likely low estimate).  If I wanted to bring in some big data technologies, I could do it, but I don't. So, should I...\n",
    "- get a list of cities commonly considered rainy and find one weather station per city?\n",
    "- get one weather station for every \"big\" city in the U.S.\n",
    "- get all of the weather stations in a few states?\n",
    "\n",
    "Although it's not perfect, I will likely go with the first option"
   ]
  },
  {
   "cell_type": "markdown",
   "metadata": {},
   "source": [
    "## List of U.S. cities and towns commonly considered rainy:\n",
    "- Seattle, WA\n",
    "- Miami, FL\n",
    "- New Orleans, LA\n",
    "- Birmingham, AL\n",
    "- Tampa, FL\n",
    "- NY, NY\n",
    "- White Plains, NY\n",
    "- Brookhaven, NY\n",
    "- Syracuse, NY\n",
    "- Buffalo, NY\n",
    "- Erie, PA\n",
    "- San Francisco, CA\n",
    "- Rochester, NY\n",
    "- Cleveland, OH\n",
    "- Akron, OH\n",
    "- Pittsburgh, OR\n",
    "- Portland, OR\n",
    "- Salem, OR\n",
    "- Houston, TX\n",
    "- Ft. Lauderdale, FL\n",
    "- Tallahasse, FL\n",
    "- Aberdeen, WA\n",
    "- Detroit, MI\n",
    "- Forks, WA"
   ]
  },
  {
   "cell_type": "markdown",
   "metadata": {},
   "source": [
    "**ANYWHERE BUT AKRON, OH!!:**\n",
    "\n",
    "To be honest, I am mostly only interested in living North of the Mason-Dixon line, and also not particularly interested in living in the \"middle of nowhere\" so I'll take cities I am not interested in off of the list.\n",
    "\n",
    "I'll also add a few cities I'm just curious about to come up with this list:"
   ]
  },
  {
   "cell_type": "code",
   "execution_count": 2,
   "metadata": {},
   "outputs": [],
   "source": [
    "cities_stations = {\n",
    "    \"Seattle\": \"USW00094290\",\n",
    "    \"Miami\": \"USW00012839\", # USW00092811\n",
    "    \"New York City\": \"USW00094728\",\n",
    "    \"White Plains\": \"USW00094745\", # techinically Westchester County\n",
    "    \"Brookhaven\": \"USW00054790\",\n",
    "    \"Syracuse\": \"USW00014771\",\n",
    "    \"Buffalo\": \"USW00014733\",\n",
    "    \"Erie\": \"USW00014860\",\n",
    "    \"Pittsburgh\": \"USW00014762\",\n",
    "    \"San Francisco\": \"USW00023272\",\n",
    "    \"West Lafayette\": \"USC00129430\",\n",
    "    # \"Rochester\": \"USW0001476\",\n",
    "    \"Cleveland\": \"USW00014820\",\n",
    "    \"Portland\": \"USC00356750\",\n",
    "    \"Detroit\": \"CA006139520\", # USW00014822, # USC00202016\n",
    "    \"Forks\": \"USC00452914\",\n",
    "    \"Boston\": \"USW00014739\",\n",
    "    \"Madison\": \"USC00470273\",\n",
    "    \"Woods Hole\": \"US1MABA0003\", # US1MABA0013 technically Falmouth, MA\n",
    "    \"Monterey\": \"USW00023259\",\n",
    "    \"Richland\": \"USW00024163\" # USC00457015\n",
    "}"
   ]
  },
  {
   "cell_type": "code",
   "execution_count": 3,
   "metadata": {},
   "outputs": [],
   "source": [
    "partial_schema = pd.DataFrame(\n",
    "    {\n",
    "        \"Column\" : [\n",
    "            \"DATE\",\n",
    "            \"PRCP\",\n",
    "            \"SNOW\",\n",
    "            \"DYFG\",\n",
    "            \"DYHF\",\n",
    "            \"DYTS\",\n",
    "            \"EMXP\",\n",
    "            \"DP01\",\n",
    "            \"DP10\",\n",
    "            \"DP1X\",\n",
    "            \"DSNW\"\n",
    "        ],\n",
    "        \"Description\" : [\n",
    "            \"year AD\",\n",
    "            \"total annual precipitation in inches\",\n",
    "            \"total annual snowfall in inches\",\n",
    "            \"number of days with fog\",\n",
    "            \"number of days with 'heavy' fog\",\n",
    "            \"number of days with thunderstorms\",\n",
    "            \"highest daily total of precipitation in inches\",\n",
    "            \"number of days with over 0.01 inches of unspecified precipitation, probably rain w/o snow\",\n",
    "            \"number of days with over 0.10 inches of unspecified precipitation, probably rain w/o snow\",\n",
    "            \"number of days with over 1.00 inches of unspecified precipitation, probably rain w/o snow\",\n",
    "            \"number of days with over 1.00 inches of snowfall\"\n",
    "        ]\n",
    "    }\n",
    ")\n",
    "columns_selection = list(partial_schema[\"Column\"])"
   ]
  },
  {
   "cell_type": "code",
   "execution_count": 4,
   "metadata": {},
   "outputs": [],
   "source": [
    "cities = total_concat(cities_stations, columns_selection)"
   ]
  },
  {
   "cell_type": "code",
   "execution_count": 6,
   "metadata": {},
   "outputs": [
    {
     "data": {
      "text/html": [
       "<div>\n",
       "<style scoped>\n",
       "    .dataframe tbody tr th:only-of-type {\n",
       "        vertical-align: middle;\n",
       "    }\n",
       "\n",
       "    .dataframe tbody tr th {\n",
       "        vertical-align: top;\n",
       "    }\n",
       "\n",
       "    .dataframe thead th {\n",
       "        text-align: right;\n",
       "    }\n",
       "</style>\n",
       "<table border=\"1\" class=\"dataframe\">\n",
       "  <thead>\n",
       "    <tr style=\"text-align: right;\">\n",
       "      <th></th>\n",
       "      <th>DATE</th>\n",
       "      <th>PRCP</th>\n",
       "      <th>SNOW</th>\n",
       "      <th>DYFG</th>\n",
       "      <th>DYHF</th>\n",
       "      <th>DYTS</th>\n",
       "      <th>EMXP</th>\n",
       "      <th>DP01</th>\n",
       "      <th>DP10</th>\n",
       "      <th>DP1X</th>\n",
       "      <th>DSNW</th>\n",
       "      <th>CITY</th>\n",
       "    </tr>\n",
       "  </thead>\n",
       "  <tbody>\n",
       "    <tr>\n",
       "      <th>21</th>\n",
       "      <td>2012</td>\n",
       "      <td>1191.1</td>\n",
       "      <td>196.0</td>\n",
       "      <td>42.0</td>\n",
       "      <td>NaN</td>\n",
       "      <td>4.0</td>\n",
       "      <td>66.0</td>\n",
       "      <td>184.0</td>\n",
       "      <td>122.0</td>\n",
       "      <td>5.0</td>\n",
       "      <td>3.0</td>\n",
       "      <td>Seattle</td>\n",
       "    </tr>\n",
       "    <tr>\n",
       "      <th>22</th>\n",
       "      <td>2013</td>\n",
       "      <td>756.1</td>\n",
       "      <td>23.0</td>\n",
       "      <td>65.0</td>\n",
       "      <td>NaN</td>\n",
       "      <td>5.0</td>\n",
       "      <td>38.9</td>\n",
       "      <td>159.0</td>\n",
       "      <td>80.0</td>\n",
       "      <td>3.0</td>\n",
       "      <td>0.0</td>\n",
       "      <td>Seattle</td>\n",
       "    </tr>\n",
       "    <tr>\n",
       "      <th>23</th>\n",
       "      <td>2014</td>\n",
       "      <td>1188.1</td>\n",
       "      <td>51.0</td>\n",
       "      <td>72.0</td>\n",
       "      <td>1.0</td>\n",
       "      <td>4.0</td>\n",
       "      <td>36.3</td>\n",
       "      <td>161.0</td>\n",
       "      <td>108.0</td>\n",
       "      <td>9.0</td>\n",
       "      <td>1.0</td>\n",
       "      <td>Seattle</td>\n",
       "    </tr>\n",
       "    <tr>\n",
       "      <th>24</th>\n",
       "      <td>2015</td>\n",
       "      <td>1000.1</td>\n",
       "      <td>0.0</td>\n",
       "      <td>78.0</td>\n",
       "      <td>10.0</td>\n",
       "      <td>9.0</td>\n",
       "      <td>55.4</td>\n",
       "      <td>150.0</td>\n",
       "      <td>85.0</td>\n",
       "      <td>4.0</td>\n",
       "      <td>0.0</td>\n",
       "      <td>Seattle</td>\n",
       "    </tr>\n",
       "    <tr>\n",
       "      <th>25</th>\n",
       "      <td>2016</td>\n",
       "      <td>1145.1</td>\n",
       "      <td>35.0</td>\n",
       "      <td>61.0</td>\n",
       "      <td>3.0</td>\n",
       "      <td>5.0</td>\n",
       "      <td>44.7</td>\n",
       "      <td>187.0</td>\n",
       "      <td>115.0</td>\n",
       "      <td>7.0</td>\n",
       "      <td>0.0</td>\n",
       "      <td>Seattle</td>\n",
       "    </tr>\n",
       "  </tbody>\n",
       "</table>\n",
       "</div>"
      ],
      "text/plain": [
       "    DATE    PRCP   SNOW  DYFG  DYHF  DYTS  EMXP   DP01   DP10  DP1X  DSNW  \\\n",
       "21  2012  1191.1  196.0  42.0   NaN   4.0  66.0  184.0  122.0   5.0   3.0   \n",
       "22  2013   756.1   23.0  65.0   NaN   5.0  38.9  159.0   80.0   3.0   0.0   \n",
       "23  2014  1188.1   51.0  72.0   1.0   4.0  36.3  161.0  108.0   9.0   1.0   \n",
       "24  2015  1000.1    0.0  78.0  10.0   9.0  55.4  150.0   85.0   4.0   0.0   \n",
       "25  2016  1145.1   35.0  61.0   3.0   5.0  44.7  187.0  115.0   7.0   0.0   \n",
       "\n",
       "       CITY  \n",
       "21  Seattle  \n",
       "22  Seattle  \n",
       "23  Seattle  \n",
       "24  Seattle  \n",
       "25  Seattle  "
      ]
     },
     "execution_count": 6,
     "metadata": {},
     "output_type": "execute_result"
    }
   ],
   "source": [
    "cities.head()"
   ]
  },
  {
   "cell_type": "markdown",
   "metadata": {},
   "source": [
    "# Extra Methods:"
   ]
  },
  {
   "cell_type": "code",
   "execution_count": 5,
   "metadata": {},
   "outputs": [],
   "source": [
    "# check_years(cities_stations, rng=(2011, 2021))"
   ]
  }
 ],
 "metadata": {
  "kernelspec": {
   "display_name": "venv",
   "language": "python",
   "name": "python3"
  },
  "language_info": {
   "codemirror_mode": {
    "name": "ipython",
    "version": 3
   },
   "file_extension": ".py",
   "mimetype": "text/x-python",
   "name": "python",
   "nbconvert_exporter": "python",
   "pygments_lexer": "ipython3",
   "version": "3.8.9"
  }
 },
 "nbformat": 4,
 "nbformat_minor": 2
}
